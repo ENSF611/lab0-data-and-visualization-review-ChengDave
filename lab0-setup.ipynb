{
 "cells": [
  {
   "cell_type": "code",
   "execution_count": 1,
   "id": "689febba",
   "metadata": {
    "scrolled": true
   },
   "outputs": [
    {
     "name": "stdout",
     "output_type": "stream",
     "text": [
      "Python␣version: 3.9.13 (main, Aug 25 2022, 18:29:29) \n",
      "[Clang 12.0.0 ]\n",
      "pandas␣version: 1.5.0\n",
      "matplotlib␣version: 3.5.2\n",
      "NumPy␣version: 1.22.4\n",
      "SciPy␣version: 1.7.3\n",
      "IPython␣version: 8.4.0\n",
      "scikit-learn␣version: 1.1.1\n",
      "yellowbrick␣version: 1.3\n"
     ]
    }
   ],
   "source": [
    "import sys\n",
    "print(\"Python␣version:\", sys.version)\n",
    "import pandas as pd\n",
    "print(\"pandas␣version:\", pd.__version__)\n",
    "import matplotlib\n",
    "print(\"matplotlib␣version:\", matplotlib.__version__)\n",
    "import numpy as np\n",
    "print(\"NumPy␣version:\", np.__version__)\n",
    "import scipy as sp\n",
    "print(\"SciPy␣version:\", sp.__version__)\n",
    "import IPython\n",
    "print(\"IPython␣version:\", IPython.__version__)\n",
    "import sklearn\n",
    "print(\"scikit-learn␣version:\", sklearn.__version__)\n",
    "import yellowbrick\n",
    "print(\"yellowbrick␣version:\", yellowbrick.__version__)\n"
   ]
  },
  {
   "cell_type": "code",
   "execution_count": 2,
   "id": "1f610d79",
   "metadata": {},
   "outputs": [
    {
     "name": "stdout",
     "output_type": "stream",
     "text": [
      "\n",
      "     active environment : ensf-ml\n",
      "    active env location : /Users/davidcheng/opt/anaconda3/envs/ensf-ml\n",
      "            shell level : 2\n",
      "       user config file : /Users/davidcheng/.condarc\n",
      " populated config files : /Users/davidcheng/.condarc\n",
      "          conda version : 4.12.0\n",
      "    conda-build version : 3.21.5\n",
      "         python version : 3.9.7.final.0\n",
      "       virtual packages : __osx=10.16=0\n",
      "                          __unix=0=0\n",
      "                          __archspec=1=x86_64\n",
      "       base environment : /Users/davidcheng/opt/anaconda3  (writable)\n",
      "      conda av data dir : /Users/davidcheng/opt/anaconda3/etc/conda\n",
      "  conda av metadata url : None\n",
      "           channel URLs : https://repo.anaconda.com/pkgs/main/osx-64\n",
      "                          https://repo.anaconda.com/pkgs/main/noarch\n",
      "                          https://repo.anaconda.com/pkgs/r/osx-64\n",
      "                          https://repo.anaconda.com/pkgs/r/noarch\n",
      "          package cache : /Users/davidcheng/opt/anaconda3/pkgs\n",
      "                          /Users/davidcheng/.conda/pkgs\n",
      "       envs directories : /Users/davidcheng/opt/anaconda3/envs\n",
      "                          /Users/davidcheng/.conda/envs\n",
      "               platform : osx-64\n",
      "             user-agent : conda/4.12.0 requests/2.28.1 CPython/3.9.7 Darwin/21.5.0 OSX/10.16\n",
      "                UID:GID : 501:20\n",
      "             netrc file : None\n",
      "           offline mode : False\n",
      "\n",
      "\n",
      "Note: you may need to restart the kernel to use updated packages.\n"
     ]
    }
   ],
   "source": [
    "conda info"
   ]
  }
 ],
 "metadata": {
  "kernelspec": {
   "display_name": "Python 3 (ipykernel)",
   "language": "python",
   "name": "python3"
  },
  "language_info": {
   "codemirror_mode": {
    "name": "ipython",
    "version": 3
   },
   "file_extension": ".py",
   "mimetype": "text/x-python",
   "name": "python",
   "nbconvert_exporter": "python",
   "pygments_lexer": "ipython3",
   "version": "3.9.13"
  }
 },
 "nbformat": 4,
 "nbformat_minor": 5
}
